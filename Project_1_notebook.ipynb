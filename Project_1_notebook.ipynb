{
 "cells": [
  {
   "attachments": {},
   "cell_type": "markdown",
   "metadata": {},
   "source": [
    "# Data Sources:\n",
    "\n",
    "## Population/Contraception Data\n",
    " 2017-2019 (National Survey of Family Growth)\n",
    "https://www.cdc.gov/nchs/data/nsfg/2017-2019_NSFG_FemResp_SectionE_Codebook-508.pdf\n",
    "WebCode has been discontinued as of 2020 :( SO had to go through raw data manually.\n",
    "Helpful table on contraception\n",
    "https://www.cdc.gov/nchs/data/databriefs/db388-tables-508.pdf#page=2\n",
    "\n",
    "## IUD failure rate data\n",
    "https://www.ohsu.edu/sites/default/files/2020-01/Comparison%20between%20two%2052mg%20levonorgestrel-releasing%20intrauterine%20systems%20Liletta%20and%20Mirena.pdf\n",
    "\n",
    "https://www.fsrh.org/documents/fsrh-ceu-new-product-review-kyleena-january-2018/\n",
    "\n",
    "## Abortion Care data Sources\n",
    "https://www.nytimes.com/interactive/2023/06/22/us/abortion-clinics-dobbs-roe-wade.html\n",
    "Updated table on pages 20-21 of below pdf using map data from NYT article - found possible undercount of Tennesee abortion closures in NYT article. Used 2019 census figures for 2022 population data (as 2020 Census changed fertile population from 15-49 to 15-44 and 2019 figures were what was previously used in ANSIRH table for 2020 and 2021 years)\n",
    "https://www.ansirh.org/sites/default/files/2022-06/Trends%20in%20Abortion%20Care%20in%20the%20United%20States%2C%202017-2021.pdf\n",
    "\n",
    "\n",
    "\n",
    "An unintended pregnancy is one that\n",
    "occurred when a woman wanted to\n",
    "become pregnant in the future but\n",
    "not at the time she became pregnant\n",
    "(“wanted later”) or one that occurred\n",
    "when she did not want to become pregnant then or at any time in the future\n",
    "(“unwanted”). In this fact sheet, births\n",
    "resulting from unintended pregnancies\n",
    "are referred to as “unplanned.” - Guttmacher Institute\n",
    "\n"
   ]
  },
  {
   "cell_type": "code",
   "execution_count": 81,
   "metadata": {},
   "outputs": [],
   "source": [
    "## Female Respondent File Codebook - made csv of relevant data\n",
    "##import csv file info\n",
    "\n",
    "import requests\n",
    "import pandas as pd\n",
    "\n",
    "df = pd.read_csv('NSFG.csv')\n",
    "#made each column easier to code with\n",
    "df.columns = [c.lower().replace(' ', '_') for c in df.columns]\n",
    "\n",
    "df.rename(columns = {'birth_control_methods':'method','percent(%)':'percent','across_population_(females_15-49)':\"num_in_pop\",'estimated_unintended_pregnancies_':'est_unplnd_prg','planned_pregnancies':'plnd_prg'}, inplace=True)\n",
    "#wanted to make each pregnancy I extrapolated that of a whole person but could intially not do int(x) for the string of 'NaN' \n",
    "#learned apply function on StackedOverflow\n",
    "#Source: https://stackoverflow.com/questions/44061607/pandas-lambda-function-with-nan-support\n",
    "df['est_unplnd_prg']=df['est_unplnd_prg'].apply(lambda x : int(x) if pd.notna(x) else x)\n"
   ]
  },
  {
   "attachments": {},
   "cell_type": "markdown",
   "metadata": {},
   "source": [
    "My analysis here came from extrapolating the contraceptive habits and patterns of the 6,141 women surveyed in the CDC's National Survey of Family Growth multiplied by each method's failure rate across the whole US population of women who could get pregnant (CDC decided this is those between the ages of 15-49 in 2020 it decided it was 15-44 but this is all data that pre-dates that assumption). This cumulatively finds that 5% of the female population between the ages of 15 and 49 years old in 2019 experience an unplanned pregnancy."
   ]
  },
  {
   "cell_type": "code",
   "execution_count": 97,
   "metadata": {},
   "outputs": [
    {
     "name": "stdout",
     "output_type": "stream",
     "text": [
      "0.049639037138927096\n"
     ]
    },
    {
     "data": {
      "text/plain": [
       "<Figure size 640x480 with 0 Axes>"
      ]
     },
     "metadata": {},
     "output_type": "display_data"
    },
    {
     "data": {
      "image/png": "[encoded data removed]",
      "text/plain": [
       "<Figure size 640x480 with 1 Axes>"
      ]
     },
     "metadata": {},
     "output_type": "display_data"
    }
   ],
   "source": [
    "import matplotlib\n",
    "from matplotlib import pyplot as plt    \n",
    "import numpy as np\n",
    "\n",
    "fig1 = plt.figure()\n",
    "df\n",
    "\n",
    "\n",
    "#First Map: Bar chart of population on contraception by method - Omit the total population to graph alongside with iloc[:-1]\n",
    "df[['num_in_pop']].iloc[:-1].plot(kind='bar')\n",
    "df.describe()\n",
    "\n",
    "df\n",
    "\n",
    "#This finds the total estimated number of unplanned pregnancies in the US per year\n",
    "#NOTE: In the survey, though 35% of respondents reported not being on any form of birth control, only 7.9% of those were having unprotected sex so the 85% instance of pregnancy every year for that method was only applied to 7.9% of the population. \n",
    "unplnd_prg_odds = df['est_unplnd_prg'][11]/df['num_in_pop'][11]\n",
    "print(unplnd_prg_odds)\n",
    "\n",
    "\n",
    "\n"
   ]
  },
  {
   "cell_type": "code",
   "execution_count": 83,
   "metadata": {},
   "outputs": [],
   "source": [
    "#Second Graph: Not on contraception - bar graph of population next to stack of unplanned vs planned pregnancies\n",
    "##dfsum=df\n",
    "\n",
    "#dfsum.loc[0] += dfsum.loc[1]\n",
    "#dfsum.set_index('method',inplace=True)\n",
    "#dfsum.iloc[1]['method'] ='IUD'\n",
    "#dfsum.drop(1,inplace=True)\n",
    "\n",
    "#dfsum.set_index('method')[['est_unplnd_prg']].iloc[:1].plot(kind='bar')\n",
    "\n",
    "#could not get this code to work in the end RIP made a bullet bar graph in DataWrapper using df above\n",
    "\n"
   ]
  },
  {
   "cell_type": "code",
   "execution_count": 84,
   "metadata": {},
   "outputs": [
    {
     "data": {
      "text/html": [
       "<div>\n",
       "<style scoped>\n",
       "    .dataframe tbody tr th:only-of-type {\n",
       "        vertical-align: middle;\n",
       "    }\n",
       "\n",
       "    .dataframe tbody tr th {\n",
       "        vertical-align: top;\n",
       "    }\n",
       "\n",
       "    .dataframe thead th {\n",
       "        text-align: right;\n",
       "    }\n",
       "</style>\n",
       "<table border=\"1\" class=\"dataframe\">\n",
       "  <thead>\n",
       "    <tr style=\"text-align: right;\">\n",
       "      <th></th>\n",
       "      <th>iud_type</th>\n",
       "      <th>1</th>\n",
       "      <th>3</th>\n",
       "      <th>5</th>\n",
       "      <th>8</th>\n",
       "      <th>10</th>\n",
       "    </tr>\n",
       "  </thead>\n",
       "  <tbody>\n",
       "    <tr>\n",
       "      <th>0</th>\n",
       "      <td>Copper</td>\n",
       "      <td>6.0</td>\n",
       "      <td>8.0</td>\n",
       "      <td>14.0</td>\n",
       "      <td>NaN</td>\n",
       "      <td>22.0</td>\n",
       "    </tr>\n",
       "    <tr>\n",
       "      <th>1</th>\n",
       "      <td>Mirena</td>\n",
       "      <td>2.0</td>\n",
       "      <td>1.0</td>\n",
       "      <td>7.0</td>\n",
       "      <td>6.8</td>\n",
       "      <td>NaN</td>\n",
       "    </tr>\n",
       "    <tr>\n",
       "      <th>2</th>\n",
       "      <td>Skyla</td>\n",
       "      <td>4.0</td>\n",
       "      <td>9.0</td>\n",
       "      <td>NaN</td>\n",
       "      <td>NaN</td>\n",
       "      <td>NaN</td>\n",
       "    </tr>\n",
       "    <tr>\n",
       "      <th>3</th>\n",
       "      <td>Liletta</td>\n",
       "      <td>5.0</td>\n",
       "      <td>NaN</td>\n",
       "      <td>10.0</td>\n",
       "      <td>NaN</td>\n",
       "      <td>NaN</td>\n",
       "    </tr>\n",
       "    <tr>\n",
       "      <th>4</th>\n",
       "      <td>Kyleena</td>\n",
       "      <td>1.6</td>\n",
       "      <td>NaN</td>\n",
       "      <td>14.0</td>\n",
       "      <td>NaN</td>\n",
       "      <td>NaN</td>\n",
       "    </tr>\n",
       "  </tbody>\n",
       "</table>\n",
       "</div>"
      ],
      "text/plain": [
       "  iud_type    1    3     5    8    10\n",
       "0   Copper  6.0  8.0  14.0  NaN  22.0\n",
       "1   Mirena  2.0  1.0   7.0  6.8   NaN\n",
       "2    Skyla  4.0  9.0   NaN  NaN   NaN\n",
       "3  Liletta  5.0  NaN  10.0  NaN   NaN\n",
       "4  Kyleena  1.6  NaN  14.0  NaN   NaN"
      ]
     },
     "execution_count": 84,
     "metadata": {},
     "output_type": "execute_result"
    }
   ],
   "source": [
    "#needed to rename my terrible csv files\n",
    "df1 = pd.read_csv(\"IUD_type_per_1000.csv\")\n",
    "df1.rename(columns = {'IUD':'iud_type','Year 1':'1','Year 3 (cumulative)':'3','Year 5 (cumulative)':'5','Year 8 (cumulative)':'8','Year 10 (cumulative':'10'}, inplace=True)\n",
    "#df1['per 1000 women']= df['y']\n",
    "\n",
    "df1\n",
    "\n"
   ]
  },
  {
   "cell_type": "code",
   "execution_count": 85,
   "metadata": {},
   "outputs": [
    {
     "data": {
      "image/png": "[encoded data removed]",
      "text/plain": [
       "<Figure size 640x480 with 1 Axes>"
      ]
     },
     "metadata": {},
     "output_type": "display_data"
    }
   ],
   "source": [
    "#Fourth Graph: Show amount of IUD failures based of varying efficacy of different brands\n",
    "#Show that efficacy over longer periods of time decreases\n",
    "\n",
    "fig = plt.figure()\n",
    "\n",
    "#I wanted to graph but ran into trouble with 'NaN values so used the dropna() function (googled it because I figured there was opposite to isna) to ignore them and the transpose to do each column as a line instead of each row\n",
    "for c in df1['iud_type']:\n",
    "    df1.set_index('iud_type').transpose()[c].dropna().plot()\n",
    " \n",
    "\n",
    "plt.suptitle('IUD Failures', fontsize=20)\n",
    "plt.xlabel('years in situ', fontsize=14)\n",
    "plt.ylabel('pregnancies per 1000 users', fontsize=14)\n",
    "\n",
    "plt.grid()\n",
    "plt.tick_params()\n",
    "\n",
    "#To Datawrapper we go\n",
    "\n",
    "\n"
   ]
  },
  {
   "attachments": {},
   "cell_type": "markdown",
   "metadata": {},
   "source": [
    "Now to tie this into abortion access - I don't have the geographic data of people in NSFG because it was deemed a privacy concern by the CDC\n",
    "\n",
    "However can use 2019 Census data (aware out of date but matches my dataset) to find percentage of population of women 15-49 who live in each state and * percent data * then *failure rate * overall census data 2019 and then see what percent of those women will no longer have access to abortion in-state. Can also divide figure by state facility numbers if not 0 to see which would be the most overwhelmed by unplanned pregnancies (estimated to make up 90% of abortions) instead of what the ANSIRH looks at which is total number of women of reproductive age per facility. Should also add in the amount of unplanned pregnancies from no contraception to get a full picture.\n"
   ]
  },
  {
   "cell_type": "code",
   "execution_count": 116,
   "metadata": {},
   "outputs": [
    {
     "name": "stderr",
     "output_type": "stream",
     "text": [
      "/var/folders/nj/mp6h919d3tx529bdk0ycnbj80000gn/T/ipykernel_1763/2084085789.py:20: SettingWithCopyWarning: \n",
      "A value is trying to be set on a copy of a slice from a DataFrame.\n",
      "Try using .loc[row_indexer,col_indexer] = value instead\n",
      "\n",
      "See the caveats in the documentation: https://pandas.pydata.org/pandas-docs/stable/user_guide/indexing.html#returning-a-view-versus-a-copy\n",
      "  df3_states['population']=df3_states['Num-2021'].astype(int)*df3_states['F2021']\n",
      "/var/folders/nj/mp6h919d3tx529bdk0ycnbj80000gn/T/ipykernel_1763/2084085789.py:24: SettingWithCopyWarning: \n",
      "A value is trying to be set on a copy of a slice from a DataFrame.\n",
      "Try using .loc[row_indexer,col_indexer] = value instead\n",
      "\n",
      "See the caveats in the documentation: https://pandas.pydata.org/pandas-docs/stable/user_guide/indexing.html#returning-a-view-versus-a-copy\n",
      "  df3_states['unplanned_estimate']=(df3_states['population']*unplnd_prg_odds).astype(int)\n",
      "/var/folders/nj/mp6h919d3tx529bdk0ycnbj80000gn/T/ipykernel_1763/2084085789.py:27: SettingWithCopyWarning: \n",
      "A value is trying to be set on a copy of a slice from a DataFrame.\n",
      "Try using .loc[row_indexer,col_indexer] = value instead\n",
      "\n",
      "See the caveats in the documentation: https://pandas.pydata.org/pandas-docs/stable/user_guide/indexing.html#returning-a-view-versus-a-copy\n",
      "  df3_states['unplanned_prgs_per_clinic']=(df3_states['unplanned_estimate']/df3_states['F2022']).apply(lambda x: int(x) if not math.isinf(x) else x)\n"
     ]
    }
   ],
   "source": [
    "#Step One create new data frame of unplanned pregnancies by state\n",
    "import math\n",
    "df3 = pd.read_csv(\"Abortion_care.csv\")\n",
    "#OMG THERE ARE COMMAS GET RID\n",
    "#Source: https://stackoverflow.com/questions/56947333/how-to-remove-commas-from-all-the-column-in-pandas-at-once\n",
    "\n",
    "for x in df3.columns:\n",
    "    if x.startswith('Num-') and x != 'Num-2022':\n",
    "        df3[x]=df3[x].str.replace(',','')\n",
    "\n",
    "#make separate df with regions and make this one only states\n",
    "df3_regions=df3[df3['State'].str.contains(\"Region\")]\n",
    "\n",
    "\n",
    "df3_states = df3[~df3['State'].str.contains(\"Region\", na=False)]\n",
    "\n",
    "\n",
    "#Ok now create column of population of each state\n",
    "df3_states\n",
    "df3_states['population']=df3_states['Num-2021'].astype(int)*df3_states['F2021']\n",
    "\n",
    "#ok now estimate how many unplanned pregnancies will happen in each state\n",
    "df3_states['population']\n",
    "df3_states['unplanned_estimate']=(df3_states['population']*unplnd_prg_odds).astype(int)\n",
    "#now estimate how many unplanned pregnancies per clinic\n",
    "#OH NO BC OF DODD CASE THERE ARE ZERO CLINICS IN MANY MANY STATES (THAT'S INSANE WTF AMERICA?) Do if statement to allow analysis\n",
    "df3_states['unplanned_prgs_per_clinic']=(df3_states['unplanned_estimate']/df3_states['F2022']).apply(lambda x: int(x) if not math.isinf(x) else x)\n",
    "\n",
    "\n",
    "df3_states.to_csv(r'/Users/julieiles/Desktop/Lede/GitHub/BC_failure/Abortion_access.csv', index=False)\n"
   ]
  },
  {
   "cell_type": "code",
   "execution_count": null,
   "metadata": {},
   "outputs": [],
   "source": [
    "#When I made my map it was beautiful and I loved it but all states that had 0 abortion clinics were grey and boring and if I want to then shift the estimated unplanned pregnancies towards the nearest state how would I do that....\n",
    "\n",
    "#idea one NYT how far women have to drive to get an abortion map THEN I found this AMAZING MAP\n",
    "#https://www.npr.org/sections/health-shots/2023/06/21/1183248911/abortion-access-distance-to-care-travel-miles\n"
   ]
  }
 ],
 "metadata": {
  "kernelspec": {
   "display_name": "Python 3",
   "language": "python",
   "name": "python3"
  },
  "language_info": {
   "codemirror_mode": {
    "name": "ipython",
    "version": 3
   },
   "file_extension": ".py",
   "mimetype": "text/x-python",
   "name": "python",
   "nbconvert_exporter": "python",
   "pygments_lexer": "ipython3",
   "version": "3.10.3"
  },
  "orig_nbformat": 4
 },
 "nbformat": 4,
 "nbformat_minor": 2
}
