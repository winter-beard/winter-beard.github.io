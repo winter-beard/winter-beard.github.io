{
 "cells": [
  {
   "attachments": {},
   "cell_type": "markdown",
   "metadata": {},
   "source": [
    "Data Sources:\n",
    "\n",
    "CDC:\n",
    " 2017-2019 (National Survey of Family Growth)\n",
    "https://www.cdc.gov/nchs/data/nsfg/2017-2019_NSFG_FemResp_SectionE_Codebook-508.pdf\n",
    "WebCode has been discontinued as of 2020 :( SO had to go through raw data manually.\n",
    "#Contraception Data\n",
    "https://www.cdc.gov/nchs/data/databriefs/db388-tables-508.pdf#page=2\n",
    "\n",
    "#IUD failure rate data\n",
    "https://www.ohsu.edu/sites/default/files/2020-01/Comparison%20between%20two%2052mg%20levonorgestrel-releasing%20intrauterine%20systems%20Liletta%20and%20Mirena.pdf\n",
    "\n",
    "https://www.fsrh.org/documents/fsrh-ceu-new-product-review-kyleena-january-2018/\n",
    "\n",
    "\n",
    "An unintended pregnancy is one that\n",
    "occurred when a woman wanted to\n",
    "become pregnant in the future but\n",
    "not at the time she became pregnant\n",
    "(“wanted later”) or one that occurred\n",
    "when she did not want to become pregnant then or at any time in the future\n",
    "(“unwanted”). In this fact sheet, births\n",
    "resulting from unintended pregnancies\n",
    "are referred to as “unplanned.” - Guttmacher Institute"
   ]
  },
  {
   "cell_type": "code",
   "execution_count": 33,
   "metadata": {},
   "outputs": [],
   "source": [
    "## Female Respondent File Codebook - made csv of relevant data\n",
    "##import csv file info\n",
    "\n",
    "import requests\n",
    "import pandas as pd\n",
    "\n",
    "df = pd.read_csv('NSFG.csv')\n",
    "df.columns = [c.lower().replace(' ', '_') for c in df.columns]\n",
    "\n",
    "df.rename(columns = {'birth_control_methods':'method','percent(%)':'percent','across_population_(females_15-49)':\"num_in_pop\",'estimated_unintended_pregnancies_':'est_unplnd_prg','planned_pregnancies':'plnd_prg'}, inplace=True)\n",
    "#wanted to make each pregnancy I extrapolated that of a whole person but could intially not do int(x) for the string of 'NaN' \n",
    "#learned apply function on StackedOverflow\n",
    "#Source: https://stackoverflow.com/questions/44061607/pandas-lambda-function-with-nan-support\n",
    "df['est_unplnd_prg']=df['est_unplnd_prg'].apply(lambda x : int(x) if pd.notna(x) else x)\n"
   ]
  },
  {
   "cell_type": "code",
   "execution_count": 34,
   "metadata": {},
   "outputs": [
    {
     "data": {
      "text/html": [
       "<div>\n",
       "<style scoped>\n",
       "    .dataframe tbody tr th:only-of-type {\n",
       "        vertical-align: middle;\n",
       "    }\n",
       "\n",
       "    .dataframe tbody tr th {\n",
       "        vertical-align: top;\n",
       "    }\n",
       "\n",
       "    .dataframe thead th {\n",
       "        text-align: right;\n",
       "    }\n",
       "</style>\n",
       "<table border=\"1\" class=\"dataframe\">\n",
       "  <thead>\n",
       "    <tr style=\"text-align: right;\">\n",
       "      <th></th>\n",
       "      <th>percent</th>\n",
       "      <th>num_in_pop</th>\n",
       "      <th>failure_rate</th>\n",
       "      <th>est_unplnd_prg</th>\n",
       "      <th>plnd_prg</th>\n",
       "    </tr>\n",
       "  </thead>\n",
       "  <tbody>\n",
       "    <tr>\n",
       "      <th>count</th>\n",
       "      <td>12.000000</td>\n",
       "      <td>1.200000e+01</td>\n",
       "      <td>10.000000</td>\n",
       "      <td>1.100000e+01</td>\n",
       "      <td>1.0</td>\n",
       "    </tr>\n",
       "    <tr>\n",
       "      <th>mean</th>\n",
       "      <td>16.666667</td>\n",
       "      <td>1.211667e+07</td>\n",
       "      <td>0.137650</td>\n",
       "      <td>6.561377e+05</td>\n",
       "      <td>1608215.0</td>\n",
       "    </tr>\n",
       "    <tr>\n",
       "      <th>std</th>\n",
       "      <td>27.911364</td>\n",
       "      <td>2.029156e+07</td>\n",
       "      <td>0.261070</td>\n",
       "      <td>1.104939e+06</td>\n",
       "      <td>NaN</td>\n",
       "    </tr>\n",
       "    <tr>\n",
       "      <th>min</th>\n",
       "      <td>1.700000</td>\n",
       "      <td>1.235900e+06</td>\n",
       "      <td>0.001000</td>\n",
       "      <td>1.454000e+03</td>\n",
       "      <td>1608215.0</td>\n",
       "    </tr>\n",
       "    <tr>\n",
       "      <th>25%</th>\n",
       "      <td>3.175000</td>\n",
       "      <td>2.308225e+06</td>\n",
       "      <td>0.002375</td>\n",
       "      <td>1.032300e+04</td>\n",
       "      <td>1608215.0</td>\n",
       "    </tr>\n",
       "    <tr>\n",
       "      <th>50%</th>\n",
       "      <td>5.750000</td>\n",
       "      <td>4.180250e+06</td>\n",
       "      <td>0.019000</td>\n",
       "      <td>1.853850e+05</td>\n",
       "      <td>1608215.0</td>\n",
       "    </tr>\n",
       "    <tr>\n",
       "      <th>75%</th>\n",
       "      <td>15.025000</td>\n",
       "      <td>1.092318e+07</td>\n",
       "      <td>0.145000</td>\n",
       "      <td>6.659320e+05</td>\n",
       "      <td>1608215.0</td>\n",
       "    </tr>\n",
       "    <tr>\n",
       "      <th>max</th>\n",
       "      <td>100.000000</td>\n",
       "      <td>7.270000e+07</td>\n",
       "      <td>0.850000</td>\n",
       "      <td>3.608758e+06</td>\n",
       "      <td>1608215.0</td>\n",
       "    </tr>\n",
       "  </tbody>\n",
       "</table>\n",
       "</div>"
      ],
      "text/plain": [
       "          percent    num_in_pop  failure_rate  est_unplnd_prg   plnd_prg\n",
       "count   12.000000  1.200000e+01     10.000000    1.100000e+01        1.0\n",
       "mean    16.666667  1.211667e+07      0.137650    6.561377e+05  1608215.0\n",
       "std     27.911364  2.029156e+07      0.261070    1.104939e+06        NaN\n",
       "min      1.700000  1.235900e+06      0.001000    1.454000e+03  1608215.0\n",
       "25%      3.175000  2.308225e+06      0.002375    1.032300e+04  1608215.0\n",
       "50%      5.750000  4.180250e+06      0.019000    1.853850e+05  1608215.0\n",
       "75%     15.025000  1.092318e+07      0.145000    6.659320e+05  1608215.0\n",
       "max    100.000000  7.270000e+07      0.850000    3.608758e+06  1608215.0"
      ]
     },
     "execution_count": 34,
     "metadata": {},
     "output_type": "execute_result"
    },
    {
     "data": {
      "text/plain": [
       "<Figure size 640x480 with 0 Axes>"
      ]
     },
     "metadata": {},
     "output_type": "display_data"
    },
    {
     "data": {
      "image/png": "[encoded data removed]",
      "text/plain": [
       "<Figure size 640x480 with 1 Axes>"
      ]
     },
     "metadata": {},
     "output_type": "display_data"
    }
   ],
   "source": [
    "import matplotlib\n",
    "from matplotlib import pyplot as plt    \n",
    "import numpy as np\n",
    "\n",
    "fig1 = plt.figure()\n",
    "df\n",
    "\n",
    "\n",
    "#First Map: Bar chart of population on contraception by method\n",
    "df[['num_in_pop']].iloc[:-1].plot(kind='bar')\n",
    "df.describe()\n"
   ]
  },
  {
   "cell_type": "code",
   "execution_count": 35,
   "metadata": {},
   "outputs": [],
   "source": [
    "#Second Graph: Not on contraception - bar graph of population next to stack of unplanned vs planned pregnancies\n",
    "##dfsum=df\n",
    "\n",
    "#dfsum.loc[0] += dfsum.loc[1]\n",
    "#dfsum.set_index('method',inplace=True)\n",
    "#dfsum.iloc[1]['method'] ='IUD'\n",
    "#dfsum.drop(1,inplace=True)\n",
    "\n",
    "#dfsum.set_index('method')[['est_unplnd_prg']].iloc[:1].plot(kind='bar')\n",
    "#could not get this to work in the end RIP\n",
    "#Third Graph: Total expected pregnancies based off NSFG survey compared to 2018 Birth rate, miscarriage rate, abortion rate - show gap can be attributed to undercounting of abortions as most states do not report to CDC (get stat on this)"
   ]
  },
  {
   "cell_type": "code",
   "execution_count": 36,
   "metadata": {},
   "outputs": [
    {
     "data": {
      "text/html": [
       "<div>\n",
       "<style scoped>\n",
       "    .dataframe tbody tr th:only-of-type {\n",
       "        vertical-align: middle;\n",
       "    }\n",
       "\n",
       "    .dataframe tbody tr th {\n",
       "        vertical-align: top;\n",
       "    }\n",
       "\n",
       "    .dataframe thead th {\n",
       "        text-align: right;\n",
       "    }\n",
       "</style>\n",
       "<table border=\"1\" class=\"dataframe\">\n",
       "  <thead>\n",
       "    <tr style=\"text-align: right;\">\n",
       "      <th></th>\n",
       "      <th>iud_type</th>\n",
       "      <th>y1</th>\n",
       "      <th>y3</th>\n",
       "      <th>y5</th>\n",
       "      <th>y8</th>\n",
       "      <th>y10</th>\n",
       "    </tr>\n",
       "  </thead>\n",
       "  <tbody>\n",
       "    <tr>\n",
       "      <th>0</th>\n",
       "      <td>Copper</td>\n",
       "      <td>6.0</td>\n",
       "      <td>8.0</td>\n",
       "      <td>14.0</td>\n",
       "      <td>NaN</td>\n",
       "      <td>22.0</td>\n",
       "    </tr>\n",
       "    <tr>\n",
       "      <th>1</th>\n",
       "      <td>Mirena</td>\n",
       "      <td>2.0</td>\n",
       "      <td>1.0</td>\n",
       "      <td>7.0</td>\n",
       "      <td>6.8</td>\n",
       "      <td>NaN</td>\n",
       "    </tr>\n",
       "    <tr>\n",
       "      <th>2</th>\n",
       "      <td>Skyla</td>\n",
       "      <td>4.0</td>\n",
       "      <td>9.0</td>\n",
       "      <td>NaN</td>\n",
       "      <td>NaN</td>\n",
       "      <td>NaN</td>\n",
       "    </tr>\n",
       "    <tr>\n",
       "      <th>3</th>\n",
       "      <td>Liletta</td>\n",
       "      <td>5.0</td>\n",
       "      <td>NaN</td>\n",
       "      <td>10.0</td>\n",
       "      <td>NaN</td>\n",
       "      <td>NaN</td>\n",
       "    </tr>\n",
       "    <tr>\n",
       "      <th>4</th>\n",
       "      <td>Kyleena</td>\n",
       "      <td>1.6</td>\n",
       "      <td>NaN</td>\n",
       "      <td>14.0</td>\n",
       "      <td>NaN</td>\n",
       "      <td>NaN</td>\n",
       "    </tr>\n",
       "  </tbody>\n",
       "</table>\n",
       "</div>"
      ],
      "text/plain": [
       "  iud_type   y1   y3    y5   y8   y10\n",
       "0   Copper  6.0  8.0  14.0  NaN  22.0\n",
       "1   Mirena  2.0  1.0   7.0  6.8   NaN\n",
       "2    Skyla  4.0  9.0   NaN  NaN   NaN\n",
       "3  Liletta  5.0  NaN  10.0  NaN   NaN\n",
       "4  Kyleena  1.6  NaN  14.0  NaN   NaN"
      ]
     },
     "execution_count": 36,
     "metadata": {},
     "output_type": "execute_result"
    }
   ],
   "source": [
    "#needed to rename my terrible csv files\n",
    "df1 = pd.read_csv(\"IUD_type_per_1000.csv\")\n",
    "df1.rename(columns = {'IUD':'iud_type','Year 1':'y1','Year 3 (cumulative)':'y3','Year 5 (cumulative)':'y5','Year 8 (cumulative)':'y8','Year 10 (cumulative':'y10'}, inplace=True)\n",
    "#df1['per 1000 women']= df['y']\n",
    "\n",
    "df1\n"
   ]
  },
  {
   "cell_type": "code",
   "execution_count": 37,
   "metadata": {},
   "outputs": [
    {
     "data": {
      "image/png": "[encoded data removed]",
      "text/plain": [
       "<Figure size 640x480 with 1 Axes>"
      ]
     },
     "metadata": {},
     "output_type": "display_data"
    }
   ],
   "source": [
    "#Fourth Graph: Show amount of IUD failures based of varying efficacy of different brands\n",
    "#Show that efficacy over longer periods of time decreases\n",
    "\n",
    "fig = plt.figure()\n",
    "\n",
    "#I wanted to graph but ran into trouble with 'NaN values so used the dropna() function (googled it because I figured there was opposite to isna) to ignore them and the transpose to do each column as a line instead of each row\n",
    "for c in df1['iud_type']:\n",
    "    df1.set_index('iud_type').transpose()[c].dropna().plot()\n",
    "\n",
    "plt.suptitle('IUD Failures', fontsize=20)\n",
    "plt.xlabel('years in situ', fontsize=14)\n",
    "plt.ylabel('pregnancies per 1000 users', fontsize=14)\n",
    "\n",
    "plt.grid()\n",
    "plt.tick_params()\n",
    "\n"
   ]
  },
  {
   "cell_type": "code",
   "execution_count": null,
   "metadata": {},
   "outputs": [],
   "source": []
  }
 ],
 "metadata": {
  "kernelspec": {
   "display_name": "Python 3",
   "language": "python",
   "name": "python3"
  },
  "language_info": {
   "codemirror_mode": {
    "name": "ipython",
    "version": 3
   },
   "file_extension": ".py",
   "mimetype": "text/x-python",
   "name": "python",
   "nbconvert_exporter": "python",
   "pygments_lexer": "ipython3",
   "version": "3.10.3"
  },
  "orig_nbformat": 4
 },
 "nbformat": 4,
 "nbformat_minor": 2
}
